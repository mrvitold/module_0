{
 "cells": [
  {
   "cell_type": "code",
   "execution_count": 12,
   "id": "282593f4",
   "metadata": {},
   "outputs": [
    {
     "name": "stdout",
     "output_type": "stream",
     "text": [
      "Загадано число от 1 до 100\n",
      "Ваш алгоритм угадывает число в среднем за 5 попыток\n"
     ]
    },
    {
     "data": {
      "text/plain": [
       "5"
      ]
     },
     "execution_count": 12,
     "metadata": {},
     "output_type": "execute_result"
    }
   ],
   "source": [
    "# need to add comments\n",
    "\n",
    "import numpy as np\n",
    "\n",
    "number = np.random.randint(1,101)   # загадали число\n",
    "print (\"Загадано число от 1 до 100\")\n",
    "\n",
    "def score_game(game_core):\n",
    "    count_ls = []\n",
    "    np.random.seed(1)  # фиксируем RANDOM SEED, чтобы ваш эксперимент был воспроизводим!\n",
    "    random_array = np.random.randint(1,101, size=(1000))\n",
    "    for number in random_array:\n",
    "        count_ls.append(game_core(number))\n",
    "    score = int(np.mean(count_ls))\n",
    "    print(f\"Ваш алгоритм угадывает число в среднем за {score} попыток\")\n",
    "    return(score)\n",
    "\n",
    "def game_core_v3(number):\n",
    "    count = 1\n",
    "    more_than = [0]  # числа которые меньше угадываемого\n",
    "    less_than = [100]  # числа которые больше угадываемого\n",
    "    predict = int(np.mean([min(less_than), max(more_than)])) # каждый раз будем брать среднее между минимально и максимально возможным числом \n",
    "    while number != predict:\n",
    "        count+=1\n",
    "        if number > predict:\n",
    "            more_than.append(predict)  # если predict меньше, добавляем его в список тех что меньше\n",
    "            if predict % 2 == 0:  # что среднее было целым числом, проверяем чётное ли наш predict\n",
    "                predict = int(np.mean([min(less_than), max(more_than)]))\n",
    "            else:\n",
    "                predict = int(np.mean([min(less_than) + 1, max(more_than)]))  # если не чётное, то добавляем к нему один и тогда выводим среднее\n",
    "        elif number < predict:  # если predict больше, добавляем его в список тех что больше\n",
    "            less_than.append(predict)\n",
    "            if predict % 2 == 0:\n",
    "                predict = int(np.mean([min(less_than), max(more_than)]))\n",
    "            else:\n",
    "                predict = int(np.mean([min(less_than) + 1, max(more_than)]))\n",
    "    return(count) # выход из цикла, если угадали\n",
    "\n",
    "score_game(game_core_v3)"
   ]
  }
 ],
 "metadata": {
  "kernelspec": {
   "display_name": "Python 3",
   "language": "python",
   "name": "python3"
  },
  "language_info": {
   "codemirror_mode": {
    "name": "ipython",
    "version": 3
   },
   "file_extension": ".py",
   "mimetype": "text/x-python",
   "name": "python",
   "nbconvert_exporter": "python",
   "pygments_lexer": "ipython3",
   "version": "3.8.8"
  }
 },
 "nbformat": 4,
 "nbformat_minor": 5
}
